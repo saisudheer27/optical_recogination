{
  "nbformat": 4,
  "nbformat_minor": 0,
  "metadata": {
    "language_info": {
      "codemirror_mode": {
        "name": "ipython",
        "version": 3
      },
      "file_extension": ".py",
      "mimetype": "text/x-python",
      "name": "python",
      "nbconvert_exporter": "python",
      "pygments_lexer": "ipython3",
      "version": "3.9.5"
    },
    "orig_nbformat": 4,
    "kernelspec": {
      "name": "python3",
      "display_name": "Python 3.9.5 64-bit ('PythonSoftwareFoundation.Python.3.9_qbz5n2kfra8p0')"
    },
    "interpreter": {
      "hash": "01a0d2cb321f8268a422eb708c030ed20c2dbc2d74c52c3b4d487b11d9085a9f"
    },
    "colab": {
      "name": "Copy of Optical Character Recognition.ipynb",
      "provenance": [],
      "include_colab_link": true
    }
  },
  "cells": [
    {
      "cell_type": "markdown",
      "metadata": {
        "id": "view-in-github",
        "colab_type": "text"
      },
      "source": [
        "<a href=\"https://colab.research.google.com/github/saisudheer27/optical_recogination/blob/main/Copy_of_Optical_Character_Recognition.ipynb\" target=\"_parent\"><img src=\"https://colab.research.google.com/assets/colab-badge.svg\" alt=\"Open In Colab\"/></a>"
      ]
    },
    {
      "cell_type": "code",
      "metadata": {
        "id": "phH98iJHiZW1"
      },
      "source": [
        "import matplotlib.pyplot as plt\n",
        "import cv2\n",
        "import easyocr\n",
        "from pylab import rcParams\n",
        "from IPython.display import Image\n",
        "rcParams['figure.figsize'] = 8, 16"
      ],
      "execution_count": 3,
      "outputs": []
    },
    {
      "cell_type": "code",
      "metadata": {
        "colab": {
          "base_uri": "https://localhost:8080/"
        },
        "id": "dEBI10fAiZW5",
        "outputId": "6e4c1b47-2448-474d-849c-e0034d1a2382"
      },
      "source": [
        "reader = easyocr.Reader(['en'])"
      ],
      "execution_count": 4,
      "outputs": [
        {
          "output_type": "stream",
          "text": [
            "CUDA not available - defaulting to CPU. Note: This module is much faster with a GPU.\n",
            "Downloading detection model, please wait. This may take several minutes depending upon your network connection.\n"
          ],
          "name": "stderr"
        },
        {
          "output_type": "stream",
          "text": [
            ""
          ],
          "name": "stdout"
        },
        {
          "output_type": "stream",
          "text": [
            "Downloading recognition model, please wait. This may take several minutes depending upon your network connection.\n"
          ],
          "name": "stderr"
        },
        {
          "output_type": "stream",
          "text": [
            ""
          ],
          "name": "stdout"
        }
      ]
    },
    {
      "cell_type": "code",
      "metadata": {
        "colab": {
          "base_uri": "https://localhost:8080/",
          "height": 221
        },
        "id": "PJnJ3Xk-iZW7",
        "outputId": "067f2e44-1f34-450e-895d-0ec6182abc5d"
      },
      "source": [
        "\n",
        "Image(\"/content/images.png\")"
      ],
      "execution_count": 5,
      "outputs": [
        {
          "output_type": "execute_result",
          "data": {
            "image/png": "[encoded data removed]",
            "text/plain": [
              "<IPython.core.display.Image object>"
            ]
          },
          "metadata": {
            "tags": []
          },
          "execution_count": 5
        }
      ]
    },
    {
      "cell_type": "code",
      "metadata": {
        "colab": {
          "base_uri": "https://localhost:8080/"
        },
        "id": "ArOMg608iZW8",
        "outputId": "38f65eef-4ca6-4c04-aeff-6df62d960053"
      },
      "source": [
        "output = reader.readtext('/content/images.png')\n",
        "output\n"
      ],
      "execution_count": 7,
      "outputs": [
        {
          "output_type": "stream",
          "text": [
            "/usr/local/lib/python3.7/dist-packages/torch/nn/functional.py:718: UserWarning: Named tensors and all their associated APIs are an experimental feature and subject to change. Please do not use them for anything important until they are released as stable. (Triggered internally at  /pytorch/c10/core/TensorImpl.h:1156.)\n",
            "  return torch.max_pool2d(input, kernel_size, stride, padding, dilation, ceil_mode)\n"
          ],
          "name": "stderr"
        },
        {
          "output_type": "execute_result",
          "data": {
            "text/plain": [
              "[([[33, 7], [115, 7], [115, 19], [33, 19]], 'SCENE FROM', 0.16317842176719935),\n",
              " ([[128, 8], [162, 8], [162, 16], [128, 16]], 'Dar', 0.11474236886527056),\n",
              " ([[170, 6], [210, 6], [210, 14], [170, 14]], 'Mc', 0.3034740162155647),\n",
              " ([[34, 20], [76, 20], [76, 28], [34, 28]],\n",
              "  'iutertatjun',\n",
              "  0.22956202600138448),\n",
              " ([[80, 20], [146, 20], [146, 26], [80, 26]],\n",
              "  'Maulerin dcaman',\n",
              "  0.000964866734237619),\n",
              " ([[30, 30], [68, 30], [68, 36], [30, 36]], 'contlucu', 0.22512593984932738),\n",
              " ([[138, 30], [160, 30], [160, 36], [138, 36]], 'T', 0.00706535684539511),\n",
              " ([[207, 19], [241, 19], [241, 37], [207, 37]], 'Gighi;', 0.10766956017747455),\n",
              " ([[12, 38], [48, 38], [48, 44], [12, 44]],\n",
              "  'hubie-iuum',\n",
              "  0.008320302897414224),\n",
              " ([[118, 36], [142, 36], [142, 44], [118, 44]], 'In#n', 0.13987557590007782),\n",
              " ([[166, 34], [201, 34], [201, 46], [166, 46]],\n",
              "  'Tleilre,',\n",
              "  0.37890034550786655),\n",
              " ([[204, 36], [228, 36], [228, 42], [204, 42]], 'Alia', 0.004544808994978666),\n",
              " ([[72, 46], [118, 46], [118, 54], [72, 54]],\n",
              "  'Tupr 4uuItUL',\n",
              "  0.0298732231000494),\n",
              " ([[122, 46], [164, 46], [164, 52], [122, 52]],\n",
              "  'cletMl',\n",
              "  0.023893868512258543),\n",
              " ([[192, 46], [216, 46], [216, 52], [192, 52]], 'u!en.', 0.04623230223315041),\n",
              " ([[12, 54], [42, 54], [42, 60], [12, 60]], ' Et', 0.040201801321854184),\n",
              " ([[68, 54], [106, 54], [106, 60], [68, 60]],\n",
              "  'chunanr',\n",
              "  0.0016925038866991173),\n",
              " ([[136, 54], [174, 54], [174, 60], [136, 60]], 'uer', 0.018808054812831883),\n",
              " ([[12, 64], [74, 64], [74, 70], [12, 70]], 'udinitt Mm', 0.01678608784096124),\n",
              " ([[88, 62], [126, 62], [126, 68], [88, 68]], 'Whe', 0.001741491911044975),\n",
              " ([[126, 59], [239, 59], [239, 71], [126, 71]],\n",
              "  'wovelecs; aboue t10 manela',\n",
              "  0.0876015142576315),\n",
              " ([[38, 72], [76, 72], [76, 78], [38, 78]], \"'c Tem\", 0.06114870130163064),\n",
              " ([[140, 70], [176, 70], [176, 76], [140, 76]], 'Fanc', 0.0021931712981313467),\n",
              " ([[198, 67], [239, 67], [239, 79], [198, 79]], 'clndcd', 0.24007136777430096),\n",
              " ([[146, 80], [172, 80], [172, 86], [146, 86]], '~DILLL', 0.08630232761070195),\n",
              " ([[192, 78], [238, 78], [238, 86], [192, 86]],\n",
              "  'Uuekatuiu_',\n",
              "  0.13674006672198144),\n",
              " ([[64, 88], [92, 88], [92, 94], [64, 94]], 'ekie', 0.07430479675531387),\n",
              " ([[96, 88], [130, 88], [130, 94], [96, 94]], 'un#nn', 0.006047332364362677),\n",
              " ([[204, 86], [238, 86], [238, 94], [204, 94]], 'Norfol', 0.12775783098094562),\n",
              " ([[116, 96], [238, 96], [238, 104], [116, 104]],\n",
              "  'artedur fufilisex [Iti J0T>',\n",
              "  0.005073489747117778),\n",
              " ([[26, 106], [52, 106], [52, 112], [26, 112]], 'Fe', 0.13057242168200428),\n",
              " ([[56, 106], [84, 106], [84, 112], [56, 112]], 'mIML', 0.08893197774887085),\n",
              " ([[158, 104], [238, 104], [238, 110], [158, 110]],\n",
              "  'Anc ennninntenia',\n",
              "  0.00255852560673241),\n",
              " ([[30, 114], [52, 114], [52, 120], [30, 120]], 'nmIE', 0.009077329188585281),\n",
              " ([[110, 114], [140, 114], [140, 120], [110, 120]],\n",
              "  'Muet :',\n",
              "  0.13196185593537516),\n",
              " ([[12, 122], [46, 122], [46, 128], [12, 128]],\n",
              "  'Anaatite',\n",
              "  0.002207739069747557),\n",
              " ([[58, 122], [148, 122], [148, 130], [58, 130]],\n",
              "  'Lulp45Tttan |ealit;',\n",
              "  0.00686863207628725),\n",
              " ([[12, 130], [40, 130], [40, 136], [12, 136]],\n",
              "  'Ichcula',\n",
              "  0.009358270652311722),\n",
              " ([[46, 132], [72, 132], [72, 138], [46, 138]], 'A', 0.01282462981122695),\n",
              " ([[140, 130], [176, 130], [176, 136], [140, 136]],\n",
              "  'F mm',\n",
              "  0.007281902711838484),\n",
              " ([[210, 130], [238, 130], [238, 136], [210, 136]],\n",
              "  'Gcdiie',\n",
              "  0.018963239097171587),\n",
              " ([[12, 138], [38, 138], [38, 144], [12, 144]], 'Wic', 0.011214623129623775),\n",
              " ([[102, 138], [134, 138], [134, 146], [102, 146]],\n",
              "  'minct',\n",
              "  0.14900849066673633),\n",
              " ([[166, 138], [210, 138], [210, 146], [166, 146]],\n",
              "  'Divine Filt',\n",
              "  0.0931135416989078),\n",
              " ([[20, 148], [60, 148], [60, 154], [20, 154]],\n",
              "  'H-nenTted',\n",
              "  0.12243017331156285),\n",
              " ([[64, 146], [116, 146], [116, 154], [64, 154]],\n",
              "  'mbiaulrop',\n",
              "  0.12473466975284898),\n",
              " ([[192, 146], [218, 146], [218, 152], [192, 152]],\n",
              "  'Rana',\n",
              "  0.07451389729976654),\n",
              " ([[14, 156], [56, 156], [56, 162], [14, 162]],\n",
              "  'Li4 -hci',\n",
              "  0.018334876458842894),\n",
              " ([[66, 156], [88, 156], [88, 162], [66, 162]], 'Acmat', 0.0263451221352825),\n",
              " ([[112, 156], [144, 156], [144, 162], [112, 162]],\n",
              "  'annitlT',\n",
              "  0.010241692230347514),\n",
              " ([[158, 156], [186, 156], [186, 162], [158, 162]],\n",
              "  'Teee',\n",
              "  0.22585871815681458),\n",
              " ([[14, 164], [40, 164], [40, 170], [14, 170]], 'Wd', 0.07106983774506866),\n",
              " ([[44, 164], [72, 164], [72, 170], [44, 170]], 'anCnc', 0.007993726326760122),\n",
              " ([[124, 164], [146, 164], [146, 170], [124, 170]],\n",
              "  'SMF',\n",
              "  0.0010224609022826158),\n",
              " ([[172, 164], [228, 164], [228, 170], [172, 170]],\n",
              "  'Wel Trmoy',\n",
              "  0.0362756635301067),\n",
              " ([[104, 172], [182, 172], [182, 178], [104, 178]],\n",
              "  'rne Ue Waa',\n",
              "  0.0019519248874434504),\n",
              " ([[219, 171], [241, 171], [241, 183], [219, 183]], '#i4', 0.1738627610257925),\n",
              " ([[62, 180], [112, 180], [112, 188], [62, 188]],\n",
              "  'erukenilion',\n",
              "  0.2398893752300086),\n",
              " ([[122, 180], [144, 180], [144, 188], [122, 188]],\n",
              "  'ouct',\n",
              "  0.14678031206130981),\n",
              " ([[150, 180], [182, 180], [182, 188], [150, 188]],\n",
              "  'Jul to',\n",
              "  0.223428440115693),\n",
              " ([[34, 190], [72, 190], [72, 196], [34, 196]],\n",
              "  'Omalctier',\n",
              "  0.008727791706301502),\n",
              " ([[100, 188], [220, 188], [220, 196], [100, 196]],\n",
              "  'aatcd br X-. Ilcroleun \"eil',\n",
              "  0.027489226940025837),\n",
              " ([[102.04217371477885, 71.71265211443365],\n",
              "   [125.88583153528016, 67.53599300532944],\n",
              "   [126.95782628522115, 75.28734788556635],\n",
              "   [103.11416846471984, 79.46400699467056]],\n",
              "  'pnlta',\n",
              "  0.02293683593403163),\n",
              " ([[75.29289321881345, 93.29289321881345],\n",
              "   [106.99177786663402, 96.8720286623698],\n",
              "   [105.70710678118655, 104.70710678118655],\n",
              "   [74.00822213336598, 101.1279713376302]],\n",
              "  'Lonfe',\n",
              "  0.002106832115329504),\n",
              " ([[171.3273272060037, 109.26005992660406],\n",
              "   [208.99672904811467, 113.91918413123395],\n",
              "   [207.6726727939963, 121.73994007339594],\n",
              "   [170.00327095188533, 117.08081586876605]],\n",
              "  'Allnetu',\n",
              "  0.0032567889194184633),\n",
              " ([[100.07152330911474, 130.6286093236459],\n",
              "   [119.86193421515777, 127.49297987343661],\n",
              "   [120.92847669088526, 135.3713906763541],\n",
              "   [101.13806578484223, 138.5070201265634]],\n",
              "  'Talr',\n",
              "  0.029015349224209785),\n",
              " ([[137.29289321881345, 143.29289321881345],\n",
              "   [162.9874406319167, 146.84200949889333],\n",
              "   [161.70710678118655, 154.70710678118655],\n",
              "   [136.0125593680833, 151.15799050110667]],\n",
              "  'nee [',\n",
              "  0.039913430684661),\n",
              " ([[204.07152330911475, 154.6286093236459],\n",
              "   [237.94242774548124, 151.66559015482923],\n",
              "   [238.92847669088525, 159.3713906763541],\n",
              "   [205.05757225451876, 163.33440984517077]],\n",
              "  'prrtluu',\n",
              "  0.061862410964837904),\n",
              " ([[52.0, 171.0], [76.0, 173.0], [75.0, 180.0], [51.0, 177.0]],\n",
              "  'Fueetl',\n",
              "  0.0013519093485809348)]"
            ]
          },
          "metadata": {
            "tags": []
          },
          "execution_count": 7
        }
      ]
    }
  ]
}